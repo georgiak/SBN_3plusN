{
 "cells": [
  {
   "cell_type": "code",
   "execution_count": 1,
   "metadata": {},
   "outputs": [
    {
     "name": "stdout",
     "output_type": "stream",
     "text": [
      "Welcome to JupyROOT 6.18/04\n"
     ]
    }
   ],
   "source": [
    "# Imports\n",
    "import numpy as np\n",
    "import matplotlib.pyplot as plt\n",
    "import scipy.interpolate\n",
    "from matplotlib import cm\n",
    "from root_pandas import read_root\n",
    "import scipy.stats\n",
    "from matplotlib import gridspec\n",
    "import matplotlib.lines as mlines\n",
    "import ROOT\n",
    "import scipy.stats\n",
    "from matplotlib import gridspec\n",
    "import matplotlib.lines as mlines\n",
    "from scipy.stats import chi2\n",
    "\n",
    "def getArrays(tree):\n",
    "\n",
    "    chi2 = np.zeros(tree.GetEntries())\n",
    "    dm2 = np.zeros(tree.GetEntries())\n",
    "    sin22th = np.zeros(tree.GetEntries())\n",
    "    \n",
    "    for j in range(tree.GetEntries()):\n",
    "        tree.GetEntry(j)\n",
    "        \n",
    "        chi2[j] = tree.chi2\n",
    "        dm2[j] = tree.dm2\n",
    "        sin22th[j] = tree.sin22th\n",
    "    \n",
    "    return chi2, dm2, sin22th\n",
    "\n",
    "\n",
    "def getContour(sin22th,dm2): # takes a list of sin22th,dm2 and if they form an open contour (ie: no sin22th islands) returns the leftmost edge; else (if closed contour) returns None\n",
    "\n",
    "    adm2 = np.asarray(dm2)\n",
    "    asin22th = np.asarray(sin22th)\n",
    "\n",
    "    sin22th_l = np.zeros(len(np.unique(adm2)))\n",
    "    dm2_l = np.zeros(len(np.unique(adm2)))\n",
    "   \n",
    "    \n",
    "    for i in range(len(np.unique(adm2))):\n",
    "        indmin = np.argmin(asin22th[adm2==adm2[i]])\n",
    "        indmax = np.argmax(asin22th[adm2==adm2[i]])\n",
    "        if asin22th[adm2==adm2[i]][indmax]==asin22th.max() and asin22th[adm2==adm2[i]][0]==asin22th.min() and indmax < 100:\n",
    "            return None\n",
    "        sin22th_l[i] = asin22th[adm2==np.unique(adm2)[i]][indmin]\n",
    "        dm2_l[i] = np.unique(adm2)[i]\n",
    "    else:\n",
    "        return sin22th_l, dm2_l\n",
    "\n",
    "def getContourt(tree): # same as above but directly from a tree rather than a list of sin22th, dm2\n",
    "\n",
    "    dm2 = np.zeros(tree.GetEntries())\n",
    "    sin22th = np.zeros(tree.GetEntries())\n",
    "    \n",
    "    for j in range(tree.GetEntries()):\n",
    "        tree.GetEntry(j)\n",
    "        \n",
    "        dm2[j] = tree.dm2\n",
    "        sin22th[j] = tree.sin22th\n",
    "    \n",
    "    adm2 = np.asarray(dm2)\n",
    "    asin22th = np.asarray(sin22th)\n",
    "\n",
    "\n",
    "    cosin22th = np.zeros(len(np.unique(adm2)))\n",
    "    codm2 = np.zeros(len(np.unique(adm2)))\n",
    "\n",
    "    for i in range(len(np.unique(adm2))):\n",
    "        indy = np.argmin(asin22th[adm2==adm2[i]])\n",
    "        cosin22th[i] = asin22th[adm2==np.unique(adm2)[i]][indy]\n",
    "        codm2[i] = np.unique(adm2)[i]    \n",
    "    \n",
    "    return cosin22th, codm2"
   ]
  },
  {
   "cell_type": "code",
   "execution_count": null,
   "metadata": {},
   "outputs": [],
   "source": [
    "fig, ax = plt.subplots(figsize=(12,12))\n",
    "\n",
    "f = ROOT.TFile(\"../Oct2020/validation/ccfr_val_feb4_proc_v1.root\")\n",
    "tchi_95 = f.Get(\"numudis_95_raster\")\n",
    "chi2_95, dm2_95, sin22th_95 = getArrays(tchi_95)        \n",
    "plt.plot(sin22th_95,dm2_95,label='CCFR 95% CL',c='orangered',linewidth=3,alpha=bkalpha)\n",
    "\n",
    "ax.legend(fontsize=20,frameon=False)\n",
    "\n",
    "plt.xlim(1e-4,.8)\n",
    "plt.ylim(0.01,100)\n",
    "ax.set_ylabel(r'$\\Delta m_{41}^2$  [eV$^2$]',fontsize=20)\n",
    "ax.set_xlabel(r'$\\sin^2 2 \\theta_{\\mu \\mu}$',fontsize=20)\n",
    "ax.set_xscale(\"log\", nonposx='clip')\n",
    "ax.set_yscale(\"log\", nonposy='clip')\n",
    "ax.set_title(r'$\\nu_\\mu$ Disappearance',fontsize=30)"
   ]
  },
  {
   "cell_type": "code",
   "execution_count": null,
   "metadata": {},
   "outputs": [],
   "source": []
  }
 ],
 "metadata": {
  "kernelspec": {
   "display_name": "Python 3",
   "language": "python",
   "name": "python3"
  },
  "language_info": {
   "codemirror_mode": {
    "name": "ipython",
    "version": 3
   },
   "file_extension": ".py",
   "mimetype": "text/x-python",
   "name": "python",
   "nbconvert_exporter": "python",
   "pygments_lexer": "ipython3",
   "version": "3.6.9"
  }
 },
 "nbformat": 4,
 "nbformat_minor": 2
}
