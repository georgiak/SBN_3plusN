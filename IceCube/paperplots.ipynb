{
 "cells": [
  {
   "cell_type": "code",
   "execution_count": 6,
   "metadata": {},
   "outputs": [],
   "source": [
    "import matplotlib\n",
    "import matplotlib.pyplot as plt\n",
    "%matplotlib inline\n",
    "import numpy as np\n",
    "import pandas as pd"
   ]
  },
  {
   "cell_type": "code",
   "execution_count": 9,
   "metadata": {},
   "outputs": [],
   "source": [
    "nevts = 20145\n",
    "nfoscevts = 8784618"
   ]
  },
  {
   "cell_type": "code",
   "execution_count": 11,
   "metadata": {},
   "outputs": [],
   "source": [
    "with open(\"data/observed_events.dat\") as f:\n",
    "    data = pd.read_table(f, sep=' ', header=None, usecols=[0,1],names=['energy','zenith'],skiprows=12,lineterminator='\\n')\n",
    "    \n",
    "muonenergyproxy = data.as_matrix(['energy'])\n",
    "recomuonzenith = data.as_matrix(['zenith'])"
   ]
  },
  {
   "cell_type": "code",
   "execution_count": 12,
   "metadata": {
    "collapsed": true
   },
   "outputs": [],
   "source": [
    "# Now, the nominal signal\n",
    "with open(\"data/NuFSGenMC_nominal.dat\") as f:\n",
    "    data = pd.read_table(f, sep=' ', header=None, usecols=[1,2,5,6,7],names=['energy','zenith','mc_weight','pion_flux','kaon_flux'],skiprows=11,lineterminator='\\n')\n",
    "\n",
    "nom_muonenergyproxy = data.as_matrix(['energy'])\n",
    "nom_recomuonzenith = data.as_matrix(['zenith'])\n",
    "nom_weight = (data.as_matrix(['pion_flux'])+data.as_matrix(['kaon_flux'])) * data.as_matrix(['mc_weight'])"
   ]
  },
  {
   "cell_type": "code",
   "execution_count": null,
   "metadata": {
    "collapsed": true
   },
   "outputs": [],
   "source": []
  },
  {
   "cell_type": "code",
   "execution_count": null,
   "metadata": {
    "collapsed": true
   },
   "outputs": [],
   "source": [
    "\n",
    "\t// Fill up a histo\n",
    "\t//I want evenly spaced log bins\n",
    "\tfloat emin = 400;\tfloat emax = 20000;\n",
    "\tint nbins = 28;\n",
    "\tfloat bins[nbins+1];\n",
    "\tfor(int i = 0; i < nbins+1; i++){\n",
    "\t\tbins[i] = pow(10,log10(emin) + i*log10(emax/emin)/nbins);\n",
    "\t}\n",
    "\n",
    "\tTH1F *h = new TH1F(\"h\",\"Reconstructed Events;Energy/GeV\",nbins,bins);\n",
    "\tTH1F *nom = new TH1F(\"nom\",\"nom\",nbins,bins);\n",
    "\tfor(int i = 0; i < nEvts; i++){\n",
    "\t\th->Fill(muonEnergyProxy[i]);\n",
    "\t}\n",
    "\tfor(int i = 0; i < nFOscEvts; i++){\n",
    "\t\tnom->Fill(nom_muonEnergyProxy[i],nom_weight[i]);\n",
    "\t}\n",
    "\n",
    "\t// Now, we've gotta normalize the bins of the nominal distribution to match the signal.\n",
    "\tint datact = 0;\tint nomct = 0;\n",
    "\tfor(int b = 1; b < nbins+1; b++){\n",
    "\t\tdatact += h->GetBinContent(b);\n",
    "\t\tnomct += nom->GetBinContent(b);\n",
    "\t}\n",
    "\tfor(int i = 1; i < nbins+1; i++){\n",
    "\t\tnom->SetBinContent(i,nom->GetBinContent(i)*datact/nomct);\n",
    "\t}\n",
    "\n",
    "\t// Draw the histo to check that it all looks right.\n",
    "\tTCanvas *c1 = new TCanvas(\"c1\");\n",
    "\tgStyle->SetFillColor(0);\n",
    "  \tgStyle->SetPadLeftMargin(0.15);\n",
    "  \tgStyle->SetPadBottomMargin(0.15);\n",
    "  \tgStyle->SetOptFit(1);\n",
    "  \tgStyle->SetOptTitle(0);\n",
    "  \tgStyle->SetTitleSize(0.05);\n",
    "\tgStyle->SetHatchesLineWidth(2);\n",
    "\n",
    "\th->GetXaxis()->SetTitleOffset(1.1);\n",
    "\th->GetYaxis()->SetTitleOffset(.8);\n",
    "\th->GetXaxis()->SetTitleFont(62);\n",
    "\th->GetYaxis()->SetTitleFont(62);\n",
    "\th->GetYaxis()->CenterTitle();\n",
    "\th->GetXaxis()->CenterTitle();\n",
    "\th->GetXaxis()->SetTitleSize(0.04);\n",
    "\th->GetXaxis()->SetLabelSize(0.04);\n",
    "\th->GetXaxis()->SetLabelOffset(0.001);\n",
    "\th->GetYaxis()->SetTitleSize(0.04);\n",
    "\th->GetYaxis()->SetLabelSize(0.04);\n",
    "\th->SetStats(kFALSE);\n",
    "\th->SetMarkerColor(2);\n",
    "   \th->SetMarkerStyle(4);\n",
    "\n",
    "\tc1->SetLogy();\n",
    "\tc1->SetLogx();\n",
    "\n",
    "\th->Draw(\"P\");\n",
    "\tnom->Draw(\"same\");\n",
    "\tc1->Print(\"test.png\");\n"
   ]
  }
 ],
 "metadata": {
  "kernelspec": {
   "display_name": "Python 2",
   "language": "python",
   "name": "python2"
  },
  "language_info": {
   "codemirror_mode": {
    "name": "ipython",
    "version": 2
   },
   "file_extension": ".py",
   "mimetype": "text/x-python",
   "name": "python",
   "nbconvert_exporter": "python",
   "pygments_lexer": "ipython2",
   "version": "2.7.12"
  }
 },
 "nbformat": 4,
 "nbformat_minor": 2
}
