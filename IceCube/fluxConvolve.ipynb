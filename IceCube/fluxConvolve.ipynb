{
 "cells": [
  {
   "cell_type": "markdown",
   "metadata": {},
   "source": [
    "Here's where we take the propagated flux and process it and convolve it with the systematic response array to get a nice final flux at the end."
   ]
  },
  {
   "cell_type": "code",
   "execution_count": 2,
   "metadata": {},
   "outputs": [],
   "source": [
    "import sys\n",
    "import numpy as np\n",
    "import tables\n",
    "import pandas as pd"
   ]
  },
  {
   "cell_type": "code",
   "execution_count": 3,
   "metadata": {
    "collapsed": true
   },
   "outputs": [],
   "source": [
    "# Systematic response arrays path\n",
    "pathSystResponseArrays = 'IC86SterileNeutrinoDataRelease/systematics_response_arrays/'\n",
    "# Neutrino flux path\n",
    "pathPionFluxDiff = 'libflux/flux_pion_nominal_avg.txt'\n",
    "pathKaonFluxDiff = 'libflux/flux_kaon_nominal_avg.txt'\n",
    "\n",
    "# Set variable for the nominal detector response arrays:\n",
    "NominalDetectorConfiguration  = ('nufsgen_nominal',\n",
    "                                 'Nominal')\n",
    "\n",
    "# Set variables for the detector response arrays:\n",
    "SystematicDetectorConfigurations = [\n",
    "        ('nufsgen_dom_eff_1_1979','DOM eff: 1.1979'),\n",
    "        ('nufsgen_dom_eff_1_089','DOM eff: 1.089'),\n",
    "        ('nufsgen_dom_eff_0_95','DOM eff: 0.95'),\n",
    "        ('nufsgen_dom_eff_0_90','DOM eff: 0.90'),\n",
    "        ('nufsgen_spicemie_icevariant2','IceVariant 2'),\n",
    "        ('nufsgen_spicemie_icevariant1','IceVariant 1'),\n",
    "        ('nufsgen_noholeice','No Holes Ice'),\n",
    "        ('nufsgen_spicelea','SpiceLea Ice Model')\n",
    "]"
   ]
  },
  {
   "cell_type": "code",
   "execution_count": 4,
   "metadata": {
    "collapsed": true
   },
   "outputs": [],
   "source": [
    "# Create a class to import the data from the detector response arrays.\n",
    "class sysData():\n",
    "    def __init__(self,infile):\n",
    "        h5_f=tables.open_file(pathSystResponseArrays+infile[0]\n",
    "                              +'_response_array.h5','r')\n",
    "        self.name = infile\n",
    "        self.antineutrino_response_array = h5_f.root.\\\n",
    "                                           antineutrino_response_array.read()\n",
    "        self.neutrino_response_array = h5_f.root.neutrino_response_array.read()\n",
    "        self.costh_bin_edges = h5_f.root.costh_bin_edges.read()\n",
    "        self.proxy_energy_bin_edges = h5_f.root.proxy_energy_bin_edges.read()\n",
    "        self.true_energy_bin_edges = h5_f.root.true_energy_bin_edges.read()\n",
    "        h5_f.close()\n",
    "\n",
    "        \n",
    "# This function convolves the response array and the flux array to give the\n",
    "# number of events in a given reconstructed muon energy and cos(th) bin.\n",
    "\n",
    "def Convolve(sys_array,flux_array):\n",
    "    flux = np.zeros((21,10))\n",
    "    for i in range(21):\n",
    "        energyArray = np.zeros(10)\n",
    "        for j in range(200):\n",
    "            energyArray += np.multiply(sys_array[:,i,j],flux_array[i,j])\n",
    "        flux[i] = energyArray\n",
    "    return flux\n",
    "\n",
    "# This class is used to sum up the kaon and pion neutrino events expectations\n",
    "# and output arrays we want to plot.\n",
    "\n",
    "class ConvolvedMC():\n",
    "    def __init__(self,sys,flux):\n",
    "    \tkaon_nubar = Convolve(sys.antineutrino_response_array,\n",
    "                              flux.average_flux_nubar_kaon)\n",
    "      \tkaon_nu    = Convolve(sys.neutrino_response_array,\n",
    "                              flux.average_flux_nu_kaon)\n",
    "      \tpion_nubar = Convolve(sys.antineutrino_response_array,\n",
    "                              flux.average_flux_nubar_pion)\n",
    "      \tpion_nu    = Convolve(sys.neutrino_response_array,\n",
    "                              flux.average_flux_nu_pion)\n",
    "      \ttotal_bin_count = kaon_nubar + kaon_nu + pion_nu + pion_nubar\n",
    "\n",
    "        self.counts = total_bin_count.transpose()\n",
    "        self.cosZ = np.asarray(sum(total_bin_count.transpose()[i,:]\n",
    "                                   for i in range(10)))\n",
    "        self.energy = np.asarray(sum(total_bin_count.transpose()[:,j]\n",
    "                                     for j in range(21)))\n",
    "        self.costh_bin_edges = sys.costh_bin_edges\n",
    "        self.proxy_energy_bin_edges = sys.proxy_energy_bin_edges\n",
    "\n",
    "        return None"
   ]
  },
  {
   "cell_type": "code",
   "execution_count": 7,
   "metadata": {
    "collapsed": true
   },
   "outputs": [],
   "source": [
    "# Now put all the flux garbage into a class so we can play with it\n",
    "class atmData():\n",
    "    def __init__(self):\n",
    "        \n",
    "        # Bring in the flux!\n",
    "        data_pion = pd.read_table(pathPionFluxDiff,sep=' ',skiprows=1,names=['cosz','e','flux_nu','flux_nubar'])\n",
    "        data_kaon = pd.read_table(pathKaonFluxDiff,sep=' ',skiprows=1,names=['cosz','e','flux_nu','flux_nubar'])\n",
    "    \n",
    "        nZBins = 21\n",
    "        nEBins = 200\n",
    "        EMin = 200\n",
    "        EMax = 1e6\n",
    "        cosZMin = -1.0\n",
    "        cosZMax = .24\n",
    "\n",
    "        binsE = np.logspace(np.log10(EMin), np.log10(EMax), nEBins+1)\n",
    "        binsCosZ = np.linspace(-1.02, cosZMax, nZBins+1)\n",
    "        binsCosZ[0] = -1.0\n",
    "        #Gotta do this weird fix because they did their binning strangely\n",
    "        \n",
    "        ct = 0\n",
    "        pion_nuflux = np.zeros((nZBins,nEBins))\n",
    "        pion_nubarflux = np.zeros((nZBins,nEBins))\n",
    "        kaon_nuflux = np.zeros((nZBins,nEBins))\n",
    "        kaon_nubarflux = np.zeros((nZBins,nEBins))\n",
    "        for cz in xrange(0,nZBins):\n",
    "            for re in xrange(0,nEBins):\n",
    "                pion_nuflux[cz][re] = data_pion.as_matrix(['flux_nu'])[ct]\n",
    "                pion_nubarflux[cz][re] = data_pion.as_matrix(['flux_nubar'])[ct]\n",
    "                kaon_nuflux[cz][re] = data_kaon.as_matrix(['flux_nu'])[ct]\n",
    "                kaon_nubarflux[cz][re] = data_kaon.as_matrix(['flux_nubar'])[ct]\n",
    "                ct += 1\n",
    "        \n",
    "        self.average_flux_nu_kaon = pion_nuflux\n",
    "        self.average_flux_nu_pion = pion_nubarflux\n",
    "        self.average_flux_nubar_kaon = kaon_nuflux\n",
    "        self.average_flux_nubar_pion = kaon_nubarflux    \n",
    "        self.costh_reco_bin_edges = binsCosZ\n",
    "        self.e_true_bin_edges = binsE   "
   ]
  },
  {
   "cell_type": "markdown",
   "metadata": {},
   "source": [
    "Okay! Now we've got all the stuff. Let's get gooinggggg!"
   ]
  },
  {
   "cell_type": "code",
   "execution_count": 13,
   "metadata": {},
   "outputs": [],
   "source": [
    "# Get energy\n",
    "fluxArray  = atmData()\n",
    "\n",
    "SystEnergyDistribution = ConvolvedMC(sysData(NominalDetectorConfiguration),fluxArray).energy"
   ]
  },
  {
   "cell_type": "code",
   "execution_count": 14,
   "metadata": {},
   "outputs": [
    {
     "name": "stdout",
     "output_type": "stream",
     "text": [
      "[ 0.32062496  2.63072484  5.66788758  6.280871    5.276554    3.9457227\n",
      "  2.7994922   1.89819409  1.38031301  0.85074391]\n"
     ]
    }
   ],
   "source": [
    "print SystEnergyDistribution"
   ]
  }
 ],
 "metadata": {
  "kernelspec": {
   "display_name": "Python 2",
   "language": "python",
   "name": "python2"
  },
  "language_info": {
   "codemirror_mode": {
    "name": "ipython",
    "version": 2
   },
   "file_extension": ".py",
   "mimetype": "text/x-python",
   "name": "python",
   "nbconvert_exporter": "python",
   "pygments_lexer": "ipython2",
   "version": "2.7.12"
  }
 },
 "nbformat": 4,
 "nbformat_minor": 2
}
